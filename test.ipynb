{
 "cells": [
  {
   "cell_type": "code",
   "execution_count": 6,
   "metadata": {},
   "outputs": [
    {
     "name": "stdout",
     "output_type": "stream",
     "text": [
      "1\n"
     ]
    }
   ],
   "source": [
    "import json \n",
    "li1=[[1],[2],[3],[4]]\n",
    "li2=['a','b','c','d']\n",
    "for i in range(1,2):\n",
    "    print(i)"
   ]
  },
  {
   "cell_type": "code",
   "execution_count": null,
   "metadata": {},
   "outputs": [],
   "source": []
  },
  {
   "cell_type": "code",
   "execution_count": null,
   "metadata": {},
   "outputs": [],
   "source": [
    "import torch\n",
    "li1=[[1.9],[2.8],[0.3],[.94]]\n",
    "tens = torch.tensor(li1)\n",
    "print(tens)"
   ]
  },
  {
   "cell_type": "code",
   "execution_count": null,
   "metadata": {},
   "outputs": [],
   "source": [
    "from aip import AipNlp\n",
    "APP_ID = \"Hsyy04\"\n",
    "API_KEY = \"57f8721108384b0aac655472f2d9b921\"\n",
    "SECRET_KEY = '6d213be9b1d044d7a03505770cbd2b30'\n",
    "client = AipNlp(APP_ID, API_KEY, SECRET_KEY)\n",
    "\n",
    "vec = client.wordEmbedding(\"叫\")['vec']\n",
    "print(vec)"
   ]
  },
  {
   "cell_type": "code",
   "execution_count": null,
   "metadata": {},
   "outputs": [],
   "source": [
    "import jieba.posseg as pseg\n",
    "juzi = \"最近被别人安利了一个叫火绒的软件\"\n",
    "lfenci = pseg.lcut(juzi)\n",
    "print(lfenci)\n",
    "print(lfenci.index(pseg.pair('叫', 'v')))"
   ]
  },
  {
   "cell_type": "code",
   "execution_count": 15,
   "metadata": {},
   "outputs": [
    {
     "name": "stdout",
     "output_type": "stream",
     "text": [
      "lead, as in the performance of a composition\n",
      "Synset('conduct.v.02')\n",
      "(behavioral attributes) the way a person behaves toward other people\n",
      "Synset('demeanor.n.01')\n",
      "(behavioral attributes) the way a person behaves toward other people\n"
     ]
    },
    {
     "data": {
      "text/plain": [
       "Synset('demeanor.n.01')"
      ]
     },
     "execution_count": 15,
     "metadata": {},
     "output_type": "execute_result"
    }
   ],
   "source": [
    "from nltk.wsd import lesk\n",
    "sent = 'This concert is conducted by Sir Colin Davis'\n",
    "ambiguous = 'conducted'\n",
    "print(lesk(sent, ambiguous).definition())\n",
    "print(lesk(sent, ambiguous))\n",
    "sent = 'This concert is conducted by Sir Colin Davis'\n",
    "ambiguous = 'conduct'\n",
    "print(lesk(sent, ambiguous).definition())\n",
    "print(lesk(sent, ambiguous))\n",
    "sent = 'When you conduct a survey, you organize it and carry it out.'\n",
    "ambiguous = 'conduct'\n",
    "print(lesk(sent, ambiguous).definition())\n",
    "lesk(sent, ambiguous)"
   ]
  }
 ],
 "metadata": {
  "interpreter": {
   "hash": "5f710ce0216950a785dca8a3efb9156cb008195e8c6c32c2d0bf3c0477bbae4e"
  },
  "kernelspec": {
   "display_name": "Python 3.9.6 64-bit",
   "name": "python3"
  },
  "language_info": {
   "codemirror_mode": {
    "name": "ipython",
    "version": 3
   },
   "file_extension": ".py",
   "mimetype": "text/x-python",
   "name": "python",
   "nbconvert_exporter": "python",
   "pygments_lexer": "ipython3",
   "version": "3.9.6"
  },
  "orig_nbformat": 4
 },
 "nbformat": 4,
 "nbformat_minor": 2
}
